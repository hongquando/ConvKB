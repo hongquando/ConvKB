{
 "cells": [
  {
   "cell_type": "code",
   "execution_count": 1,
   "metadata": {},
   "outputs": [],
   "source": [
    "from sklearn.decomposition import PCA\n",
    "from model.TransE import *\n",
    "from model.ConvKB import ConvKB\n",
    "from model.utils import *\n",
    "from model.CustomTripletMarginLoss import CustomTripletMarginLoss\n",
    "from argparse import Namespace\n",
    "import torch\n",
    "import torch.nn as nn\n",
    "import sys\n",
    "from torch.autograd import Variable\n",
    "import torch.optim as optim\n",
    "from numpy import linalg as LA\n",
    "import numpy as np\n",
    "from math import log10,floor\n",
    "import json\n",
    "import pickle"
   ]
  },
  {
   "cell_type": "code",
   "execution_count": 2,
   "metadata": {},
   "outputs": [],
   "source": [
    "if torch.cuda.is_available():\n",
    "    net = torch.load(\"./data/GENE/ConvKB.pkl\")\n",
    "else:\n",
    "    net = torch.load(\"./data/GENE/ConvKB.pkl\", map_location=lambda storage, loc: storage)\n",
    "net = list(net.items())\n",
    "# 1: entity\n",
    "# 2: relation\n",
    "data_train = net[0][1].cpu().numpy()"
   ]
  },
  {
   "cell_type": "code",
   "execution_count": 3,
   "metadata": {},
   "outputs": [],
   "source": [
    "with open(\"./data/GENE/db.json\", \"rb\") as f:\n",
    "    data = json.load(f)\n",
    "    f.close()\n",
    "with open(\"./data/GENE/id_dict\", \"rb\") as f:\n",
    "    id_dict = pickle.load(f)\n",
    "    f.close()\n",
    "processed_entity_2_id = load_data(\"./data/GENE/entity2id.txt\", ignore_first=True)\n",
    "relation_2_id = load_data(\"./data/GENE/relation2id.txt\", ignore_first=True)\n",
    "processed_id_2_entity = dict()\n",
    "i = 0\n",
    "with open(\"./data/GENE/entity2id.txt\", 'r') as f:\n",
    "    for line in f:\n",
    "        if True and i == 0:\n",
    "            i += 1\n",
    "            continue\n",
    "        line = line.strip()\n",
    "        if line == '':\n",
    "            continue\n",
    "        parts = line.split(\"\\t\")\n",
    "        processed_id_2_entity[int(parts[1])] = parts[0]"
   ]
  },
  {
   "cell_type": "code",
   "execution_count": null,
   "metadata": {},
   "outputs": [],
   "source": []
  },
  {
   "cell_type": "code",
   "execution_count": 7,
   "metadata": {},
   "outputs": [],
   "source": [
    "with open(\"./data/GENE/kNN.pkl\", \"rb\") as f:\n",
    "    nbrs = pickle.load(f)\n",
    "    f.close()\n",
    "distances, indices = nbrs.kneighbors(data_train)\n",
    "with open(\"./data/GENE/indices.pkl\", \"wb\") as f:\n",
    "    pickle.dump(indices,f)\n",
    "    f.close()\n",
    "with open(\"./data/GENE/distance.pkl\", \"wb\") as f:\n",
    "    pickle.dump(distances,f)\n",
    "    f.close()"
   ]
  },
  {
   "cell_type": "code",
   "execution_count": 8,
   "metadata": {},
   "outputs": [],
   "source": [
    "with open(\"./data/GENE/kNN.pkl\", \"rb\") as f:\n",
    "    nbrs = pickle.load(f)\n",
    "    f.close()\n",
    "with open(\"./data/GENE/indices.pkl\", \"rb\") as f:\n",
    "    indices = pickle.load(f)\n",
    "    f.close()\n",
    "with open(\"./data/GENE/distance.pkl\", \"rb\") as f:\n",
    "    distances = pickle.load(f)\n",
    "    f.close()"
   ]
  },
  {
   "cell_type": "code",
   "execution_count": 9,
   "metadata": {},
   "outputs": [
    {
     "data": {
      "text/plain": [
       "array([[    0, 15808,  7976, ..., 14452, 22537,  7863],\n",
       "       [    1,  7718,     4, ...,   613,  5057, 14658],\n",
       "       [    2,     5,     4, ...,  3919,  8866,  4872],\n",
       "       ...,\n",
       "       [26983,  7209,  8259, ...,  6856, 24886,  9848],\n",
       "       [26984,  4511, 22086, ..., 18766,  4439, 11215],\n",
       "       [26985, 23972, 23673, ..., 24200, 23696, 26895]])"
      ]
     },
     "execution_count": 9,
     "metadata": {},
     "output_type": "execute_result"
    }
   ],
   "source": [
    "indices"
   ]
  },
  {
   "cell_type": "code",
   "execution_count": 10,
   "metadata": {},
   "outputs": [
    {
     "data": {
      "text/plain": [
       "array([[0.        , 0.04193108, 0.1076816 , ..., 0.5199063 , 0.52899642,\n",
       "        0.53109388],\n",
       "       [0.        , 0.81078548, 0.82713589, ..., 1.004464  , 1.01056503,\n",
       "        1.01209699],\n",
       "       [0.        , 0.46836858, 0.47319053, ..., 0.71949062, 0.72112203,\n",
       "        0.72738941],\n",
       "       ...,\n",
       "       [0.        , 0.06511898, 0.06646741, ..., 0.07155802, 0.07442586,\n",
       "        0.07566636],\n",
       "       [0.        , 0.165549  , 0.25395233, ..., 0.3343984 , 0.3344013 ,\n",
       "        0.33586462],\n",
       "       [0.        , 0.00161525, 0.00169918, ..., 0.00222375, 0.00222896,\n",
       "        0.00225883]])"
      ]
     },
     "execution_count": 10,
     "metadata": {},
     "output_type": "execute_result"
    }
   ],
   "source": []
  },
  {
   "cell_type": "code",
   "execution_count": null,
   "metadata": {},
   "outputs": [],
   "source": []
  }
 ],
 "metadata": {
  "kernelspec": {
   "display_name": "Python 3",
   "language": "python",
   "name": "python3"
  },
  "language_info": {
   "codemirror_mode": {
    "name": "ipython",
    "version": 3
   },
   "file_extension": ".py",
   "mimetype": "text/x-python",
   "name": "python",
   "nbconvert_exporter": "python",
   "pygments_lexer": "ipython3",
   "version": "3.6.7"
  }
 },
 "nbformat": 4,
 "nbformat_minor": 2
}
