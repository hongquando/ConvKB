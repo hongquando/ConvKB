{
 "cells": [
  {
   "cell_type": "code",
   "execution_count": 1,
   "metadata": {},
   "outputs": [],
   "source": [
    "import json\n",
    "import re\n",
    "import pickle\n",
    "import pandas as pd"
   ]
  },
  {
   "cell_type": "code",
   "execution_count": null,
   "metadata": {},
   "outputs": [],
   "source": [
    "data = {}\n",
    "number_file = 1\n",
    "path = \"/Users/mac/Downloads/result12345/result12/data/db.json\"\n",
    "with open(path,\"rb\") as f:\n",
    "    db = json.load(f)\n",
    "    f.close()\n",
    "data.update(db)"
   ]
  },
  {
   "cell_type": "code",
   "execution_count": null,
   "metadata": {},
   "outputs": [],
   "source": [
    "with open(\"/Users/mac/PyRice/fix/data/db.json\",\"rb\") as f:\n",
    "    fix = json.load(f)\n",
    "    f.close()\n",
    "data.update(fix)"
   ]
  },
  {
   "cell_type": "code",
   "execution_count": null,
   "metadata": {},
   "outputs": [],
   "source": [
    "print(len(data),len(fix))"
   ]
  },
  {
   "cell_type": "code",
   "execution_count": null,
   "metadata": {},
   "outputs": [],
   "source": [
    "with open(path,\"w\") as f:\n",
    "    json.dump(data,f)\n",
    "    f.close()"
   ]
  },
  {
   "cell_type": "code",
   "execution_count": null,
   "metadata": {},
   "outputs": [],
   "source": [
    "len(fix)"
   ]
  },
  {
   "cell_type": "code",
   "execution_count": 17,
   "metadata": {},
   "outputs": [
    {
     "data": {
      "text/plain": [
       "'OsNippo06g203250'"
      ]
     },
     "execution_count": 17,
     "metadata": {},
     "output_type": "execute_result"
    }
   ],
   "source": [
    "id_dict[\"Os06g0527201\"]"
   ]
  },
  {
   "cell_type": "code",
   "execution_count": 2,
   "metadata": {},
   "outputs": [],
   "source": [
    "with open(\"/Users/mac/Downloads/result12345/GENE/id_dict\",\"rb\") as f:\n",
    "    id_dict = pickle.load(f)\n",
    "    f.close()\n",
    "    \n",
    "with open(\"/Users/mac/Downloads/result12345/GENE/iric_dict\",\"rb\") as f:\n",
    "    iric_dict = pickle.load(f)\n",
    "    f.close()"
   ]
  },
  {
   "cell_type": "code",
   "execution_count": 3,
   "metadata": {},
   "outputs": [
    {
     "data": {
      "text/plain": [
       "{'msu7Name': set(),\n",
       " 'raprepName': {'Os11g0100150'},\n",
       " 'contig': 'chr11',\n",
       " 'fmin': 2048,\n",
       " 'fmax': 2781}"
      ]
     },
     "execution_count": 3,
     "metadata": {},
     "output_type": "execute_result"
    }
   ],
   "source": [
    "iric_dict[\"OsNippo11g010050\"]"
   ]
  },
  {
   "cell_type": "code",
   "execution_count": null,
   "metadata": {},
   "outputs": [],
   "source": [
    "# data = pd.DataFrame()\n",
    "# number_file = 5\n",
    "# for i in range(4,number_file):\n",
    "#     db = pd.read_csv(\"/Users/mac/Downloads/result12345/result\"+str(i+1)+\"/data/db.csv\",\"rb\")\n",
    "#     data.concat(db)\n",
    "# #     with open(\"/Users/mac/Downloads/result12345/result\"+str(i+1)+\"/data/db.csv\",\"rb\") as f:\n",
    "        \n",
    "# #         f.close()\n",
    "# #     data.update(db)"
   ]
  },
  {
   "cell_type": "code",
   "execution_count": 2,
   "metadata": {},
   "outputs": [
    {
     "name": "stdout",
     "output_type": "stream",
     "text": [
      "1\n",
      "2\n",
      "3\n",
      "4\n",
      "5\n",
      "6\n",
      "7\n",
      "8\n",
      "9\n",
      "10\n"
     ]
    }
   ],
   "source": [
    "# with open(\"./result4/data/db.json\",\"rb\") as f:\n",
    "#     data = json.load(f)\n",
    "data = {}\n",
    "number_file = 10\n",
    "for i in range(number_file):\n",
    "    with open(\"/Users/mac/Downloads/result12345/result\"+str(i+1)+\"/data/db.json\",\"rb\") as f:\n",
    "        db = json.load(f)\n",
    "        f.close()\n",
    "        print(i+1)\n",
    "    data.update(db)\n",
    "\n",
    "with open(\"/Users/mac/Downloads/result12345/GENE/id_dict\",\"rb\") as f:\n",
    "    id_dict = pickle.load(f)\n",
    "    f.close()"
   ]
  },
  {
   "cell_type": "code",
   "execution_count": 3,
   "metadata": {},
   "outputs": [
    {
     "data": {
      "text/plain": [
       "61970"
      ]
     },
     "execution_count": 3,
     "metadata": {},
     "output_type": "execute_result"
    }
   ],
   "source": [
    "len(data)"
   ]
  },
  {
   "cell_type": "code",
   "execution_count": 55,
   "metadata": {},
   "outputs": [
    {
     "data": {
      "text/plain": [
       "'OsNippo07g068650'"
      ]
     },
     "execution_count": 55,
     "metadata": {},
     "output_type": "execute_result"
    }
   ],
   "source": [
    "id_dict[\"Os07g0206850\"]"
   ]
  },
  {
   "cell_type": "code",
   "execution_count": null,
   "metadata": {},
   "outputs": [],
   "source": [
    "#data[\"OsNippo07g120700\"]"
   ]
  },
  {
   "cell_type": "code",
   "execution_count": 7,
   "metadata": {},
   "outputs": [],
   "source": [
    "#\"Os06g0286700\" - \"OsNippo06g117600\"\n",
    "#\"Os09g0327575\" - \"OsNippo09g094250\"\n",
    "#\"Os04g0557500\" - \"OsNippo04g273200\"\n",
    "#\"Os04g0557800\" - \"OsNippo04g273250\"\n",
    "key = \"OsNippo07g120700\"\n",
    "data[key][\"oryzabase\"][\"CGSNL Gene Symbol\"] =\"\"\n",
    "data[key][\"oryzabase\"][\"Gene symbol synonym(s)\"]=\"MEG2\"\n",
    "data[key][\"oryzabase\"][\"CGSNL Gene Name\"]=\"\"\n",
    "data[key][\"oryzabase\"][\"Gene name synonym(s)\"]=\"Maternally Expressed Gene2\"\n",
    "data[key][\"oryzabase\"][\"Gene Ontology\"] = \"GO:0048316 - seed development\"\n",
    "data[key][\"oryzabase\"][\"Trait Ontology\"] =\"TO:0000146 - seed length TO:0000149 - seed width TO:0000304 - seed thickness TO:0000382 - 1000-seed weight TO:0000064 - embryo related trait TO:0000696 - starch content\"\n",
    "data[key][\"oryzabase\"][\"Plant Ontology\"] = \"PO:0001170 - seed development stage\""
   ]
  },
  {
   "cell_type": "code",
   "execution_count": 4,
   "metadata": {},
   "outputs": [],
   "source": [
    "chr_01=[\"OsNippo01g072600\",\"OsNippo01g052450\",\"OsNippo01g239300\",\"OsNippo01g334650\",\"OsNippo01g039000\",\n",
    "\"OsNippo01g337000\",\"OsNippo01g341950\",\"OsNippo01g361050\",\"OsNippo01g369600\",\"OsNippo01g409400\",\"OsNippo01g013600\",\n",
    "\"OsNippo03g229700\",\"OsNippo02g013500\",\"OsNippo02g098850\",\"OsNippo02g013800\",\"OsNippo03g097950\",\"OsNippo03g101050\",\n",
    "\"OsNippo02g072700\",\"OsNippo03g215300\",\"OsNippo02g079000\",\"OsNippo03g229550\",\"OsNippo03g013750\",\"OsNippo03g245500\",\n",
    "\"OsNippo03g014100\",\"OsNippo03g072600\",\"OsNippo04g026650\",\"OsNippo04g231550\",\"OsNippo04g013150\",\"OsNippo04g076850\",\n",
    "\"OsNippo05g013500\",\"OsNippo05g144550\",\"OsNippo05g015400\",\"OsNippo05g224650\",\"OsNippo05g075850\"]\n",
    "\n",
    "chr_612 = [\"OsNippo06g068350\",\"OsNippo06g089100\",\"OsNippo06g203250\",\"OsNippo07g065700\",\"OsNippo06g248250\",\n",
    "           \"OsNippo07g026950\",\"OsNippo08g012650\",\"OsNippo08g062950\",\"OsNippo09g017200\",\n",
    "\"OsNippo08g107600\",\"OsNippo11g155500\",\"OsNippo08g243850\",\"OsNippo11g010800\",\"OsNippo11g165250\",\n",
    "\"OsNippo09g138550\",\"OsNippo11g010850\",\"OsNippo11g185700\",\"OsNippo10g222750\",\"OsNippo11g011150\",\"OsNippo11g247150\",\n",
    "\"OsNippo10g237000\",\"OsNippo11g011200\",\"OsNippo11g267050\",\"OsNippo11g010050\",\"OsNippo11g011250\",\"OsNippo11g010150\",\n",
    "\"OsNippo11g011300\",\"OsNippo11g011350\",\"OsNippo11g011800\",\"OsNippo11g011400\",\"OsNippo11g027650\",\"OsNippo11g011450\",\n",
    "\"OsNippo11g056700\",\"OsNippo11g011550\",\"OsNippo11g140050\",\"OsNippo11g011600\",\"OsNippo12g058950\",\"OsNippo11g011650\",\n",
    "\"OsNippo12g076500\",\"OsNippo11g011750\",\"OsNippo11g011900\",\"OsNippo11g012000\",\"OsNippo11g012250\",\"OsNippo11g012400\"\n",
    ",\"OsNippo11g015750\",\"OsNippo11g037800\",\"OsNippo11g043200\",\"OsNippo11g043300\",\"OsNippo11g083350\",\"OsNippo11g092000\"\n",
    ",\"OsNippo11g116550\",\"OsNippo11g122750\",\"OsNippo11g156750\",\"OsNippo11g176950\",\"OsNippo11g222750\",\"OsNippo11g226000\"\n",
    ",\"OsNippo11g252250\",\"OsNippo11g264100\",\"OsNippo07g120700\",\"OsNippo11g150250\",\"OsNippo11g226300\",\"OsNippo11g270600\"\n",
    ",\"OsNippo11g043350\",\"OsNippo11g119350\",\"OsNippo07g068650\",\"OsNippo11g063000\",\"OsNippo11g155450\",\"OsNippo11g063150\"\n",
    ",\"OsNippo11g267000\",\"OsNippo11g126100\",\"OsNippo11g048200\",\"OsNippo11g010750\"]\n",
    "for name in chr_01:\n",
    "    chr_612.append(name)\n",
    "for key in chr_612:\n",
    "    if key in data.keys():\n",
    "        data[key][\"oryzabase\"][\"CGSNL Gene Symbol\"] =\"\"\n",
    "        data[key][\"oryzabase\"][\"Gene symbol synonym(s)\"]=\"\"\n",
    "        data[key][\"oryzabase\"][\"CGSNL Gene Name\"]=\"\"\n",
    "        data[key][\"oryzabase\"][\"Gene name synonym(s)\"]=\"\""
   ]
  },
  {
   "cell_type": "code",
   "execution_count": 5,
   "metadata": {},
   "outputs": [
    {
     "data": {
      "text/plain": [
       "106"
      ]
     },
     "execution_count": 5,
     "metadata": {},
     "output_type": "execute_result"
    }
   ],
   "source": [
    "len(chr_612)"
   ]
  },
  {
   "cell_type": "code",
   "execution_count": 59,
   "metadata": {},
   "outputs": [
    {
     "data": {
      "text/plain": [
       "[]"
      ]
     },
     "execution_count": 59,
     "metadata": {},
     "output_type": "execute_result"
    }
   ],
   "source": [
    "import collections\n",
    "[item for item, count in collections.Counter(chr_612).items() if count > 1]"
   ]
  },
  {
   "cell_type": "code",
   "execution_count": 6,
   "metadata": {},
   "outputs": [],
   "source": [
    "with open(\"/Users/mac/Downloads/result12345/db.json\",\"w\") as f:\n",
    "    json.dump(data,f)\n",
    "    f.close()"
   ]
  },
  {
   "cell_type": "code",
   "execution_count": 7,
   "metadata": {},
   "outputs": [],
   "source": [
    "def analysis_ontology(att,s):\n",
    "    ontology = set()\n",
    "    title_ontolofy = set()  \n",
    "    gene_ontology = [gene_ontology.start() for gene_ontology in re.finditer(s,att)]\n",
    "    for i in range(len(gene_ontology)):\n",
    "        index = gene_ontology[i]\n",
    "        #GET GO:......\n",
    "        on = att[index:index+10]\n",
    "        ontology.add(on)\n",
    "        #GET ATT REMOVE \" - \"\n",
    "#             att_of_go = att[index+13:gene_ontology[i+1]].strip()\n",
    "#             if att_of_go not in entity2id.keys():\n",
    "#                 print(\"{} : {}\".format(key,att_of_go))\n",
    "#                 entity2id.setdefault(att_of_go,count_ent)\n",
    "#                 count_ent+=1\n",
    "#     index = gene_ontology[len(gene_ontology)]\n",
    "#     on = att[index:index+10]\n",
    "#     ontology.add(on)\n",
    "#    print(ontology)\n",
    "    return ontology\n",
    "#     att_of_go = att[index+13:len(att)].strip()\n",
    "#     if att_of_go not in entity2id.keys():\n",
    "#             print(\"{} : {}\".format(key,att_of_go))\n",
    "#             entity2id.setdefault(att_of_go,count_ent)\n",
    "#             count_ent+=1"
   ]
  },
  {
   "cell_type": "code",
   "execution_count": 8,
   "metadata": {},
   "outputs": [
    {
     "name": "stdout",
     "output_type": "stream",
     "text": [
      "Os01g0149200\n",
      "Os03g0127200\n",
      "1ds  Os04g0137100\n",
      "Os04g0536500\n",
      "Os04g0621900\n",
      "None\n",
      "None\n"
     ]
    }
   ],
   "source": [
    "relation2id = dict()\n",
    "entity2id = dict()\n",
    "remove_att = {\"Gramene._id\":0,\"Gramene.name\":1,\"oryzabase.RAP ID\":2,\"funricegene_genekeywords.RAPdb\":3,\n",
    "          \"funricegene_faminfo.RAPdb\":4,\"funricegene_geneinfo.RAPdb\":5,\"rapdb.Description\":6,\n",
    "        \"rapdb.Oryzabase Gene Symbol Synonym(s)\":7,\"rapdb.RAP-DB Gene Symbol Synonym(s)\":8,\n",
    "        \"rapdb.RAP-DB Gene Name Synonym(s)\":9,\"funricegene_geneinfo.Symbol\":10,\n",
    "        \"Gramene.synonyms\":11,\"rapdb.CGSNL Gene Symbol\":12,\"rapdb.CGSNL Gene Name\":13,\n",
    "        \"rapdb.Oryzabase Gene Name Synonym(s)\":14,\"Gramene.description\":15,\"Gramene.biotype\": 16,\n",
    "        \"Gramene.taxon_id\": 17,\"Gramene.system_name\": 18,\"oryzabase.Gene symbol synonym(s)\":19,\n",
    "        \"Gramene.species_idx\":20,\"oryzabase.Mutant Image\":21,\"funricegene_genekeywords.Symbol\":22,\n",
    "        \"funricegene_genekeywords.MSU\":23,\"funricegene_geneinfo.MSU\":24,\"funricegene_genekeywords.Title\":25,\n",
    "        \"funricegene_faminfo.Symbol\":26,\"funricegene_faminfo.MSU\":27,\"oyzabase.CGSNL Gene Symbol\":28,\n",
    "        \"oryzabase.Gene name synonym(s)\":29,\"oryzabase.CGSNL Gene Symbol\":30,\"oryzabase.Chr. No.\":31,\"rapdb.ID\":32}\n",
    "triplet2id = [] \n",
    "count_ent = 0\n",
    "count_rel = 0\n",
    "count_gene = 0\n",
    "repair = 22779\n",
    "triplet = []\n",
    "# for iric_name,database in data.items():\n",
    "#     for name_db,atts in database.items():\n",
    "#         for name_att,att in atts.items():\n",
    "#             key = name_db +\".\"+ name_att\n",
    "#             if key not in remove_att.keys():\n",
    "#                 if key not in relation2id.keys():\n",
    "#                     relation2id.setdefault(key,count_rel)\n",
    "#                     count_rel+=1\n",
    "                    \n",
    "relation2id ={'Gramene.annotations': 0,\n",
    " 'rapdb.Position': 1,\n",
    " 'oryzabase.CGSNL Gene Name': 2,\n",
    " 'oryzabase.Trait Class': 3,\n",
    " 'oryzabase.Gene Ontology': 4,\n",
    " 'oryzabase.Trait Ontology': 5,\n",
    " 'oryzabase.Plant Ontology': 6,\n",
    " 'funricegene_genekeywords.Keyword': 7,\n",
    " 'funricegene_faminfo.Name': 8}   \n",
    "\n",
    "for iric_name,database in data.items():\n",
    "#     if iric_name != \"OsNippo01g010050\":\n",
    "#         continue\n",
    "#     rapdb.ID =[\"Gramene._id\",\"Gramene.name\",\n",
    "#            \"oryzabase.RAP ID\",\"funricegene_genekeywords.RAPdb\",\n",
    "#           \"funricegene_faminfo.RAPdb\",\"funricegene_geneinfo.RAPdb\"]\n",
    "    if len(database) == 0:\n",
    "        continue\n",
    "    if \"rapdb\" in database.keys():\n",
    "        if len(database[\"rapdb\"][\"ID\"]) >0:\n",
    "            iric_name = database[\"rapdb\"][\"ID\"]\n",
    "    elif \"Gramene\" in database.keys():\n",
    "        if len(database[\"Gramene\"][\"_id\"]) >0:\n",
    "            iric_name = database[\"Gramene\"][\"_id\"]\n",
    "    elif \"funricegene_genekeywords\" in database.keys():\n",
    "        if len(database[\"funricegene_genekeywords\"][\"RAPdb\"]) >0:\n",
    "             iric_name = re.sub(r\"[\\{\\}\\']\",'',database[\"funricegene_genekeywords\"][\"RAPdb\"])\n",
    "    elif \"funricegene_faminfo\" in database.keys():\n",
    "        if len(database[\"funricegene_faminfo\"][\"RAPdb\"]) >0:\n",
    "            iric_name = re.sub(r\"[\\{\\}\\']\",'',database[\"funricegene_faminfo\"][\"RAPdb\"])\n",
    "    elif \"funricegene_geneinfo\" in database.keys():\n",
    "        if len(database[\"funricegene_geneinfo\"][\"RAPdb\"]) >0:\n",
    "            print(re.sub(r\"[\\{\\}\\']\",'',database[\"funricegene_geneinfo\"][\"RAPdb\"]))\n",
    "            #Formart \"{'Os01g0149200'}\"\n",
    "            iric_name = re.sub(r\"[\\{\\}\\']\",'',database[\"funricegene_geneinfo\"][\"RAPdb\"])\n",
    "    else:\n",
    "        print(database)\n",
    "    if iric_name not in entity2id.keys():\n",
    "        entity2id.setdefault(iric_name,count_ent)\n",
    "        count_ent+=1\n",
    "        if count_ent == repair:\n",
    "            print(\"1ds \",iric_name)\n",
    "#         if count_ent == repair:\n",
    "#             print(\"0\",iric_name,key,database)\n",
    "    for name_db,atts in database.items():\n",
    "        if isinstance(atts,str):\n",
    "            print(iric_name,name_db)\n",
    "        for name_att,att in atts.items():\n",
    "            key = name_db +\".\"+ name_att\n",
    "            if key in remove_att.keys():\n",
    "                #print(\"Remove_key:\",key)\n",
    "                continue\n",
    "            elif isinstance(att,dict):\n",
    "                if key == \"Gramene.annotations\":\n",
    "                    if \"GO\" in att.keys():\n",
    "#                         print(att[\"GO\"][\"entries\"])\n",
    "                        for a in att[\"GO\"][\"entries\"]:\n",
    "                            for _,a_sub in a.items():\n",
    "                                if len(a_sub) > 0:\n",
    "                                    if a_sub not in entity2id.keys():\n",
    "#                                   print(\"{} : {}\".format(key,a_sub))\n",
    "                                        entity2id.setdefault(a_sub,count_ent)\n",
    "                                        count_ent+=1\n",
    "                                        if count_ent == repair:\n",
    "                                            print(\"1dsdasdas \",iric_name,key,database)\n",
    "                                    triplet.append(entity2id[iric_name])\n",
    "                                    #print(triplet)\n",
    "                                    triplet.append(entity2id[a_sub])\n",
    "                                    #print(triplet,a_sub)\n",
    "                                    triplet.append(relation2id[key])\n",
    "                                    #print(triplet)\n",
    "                                    triplet2id.append(triplet)\n",
    "                                    triplet = []\n",
    "                                    break\n",
    "            elif isinstance(att,int):\n",
    "                if str(att) not in entity2id.keys():\n",
    "                    entity2id.setdefault(str(att),count_ent)\n",
    "                    count_ent+=1\n",
    "                triplet.append(entity2id[iric_name])\n",
    "                triplet.append(entity2id[str(att)])\n",
    "                triplet.append(relation2id[key])\n",
    "                triplet2id.append(triplet)\n",
    "                triplet = []\n",
    "                if count_ent == repair:\n",
    "                    print(\"9\"+iric_name+key)\n",
    "            else:\n",
    "                if att ==\" _ \" or len(att) == 0:\n",
    "                    continue\n",
    "                if key ==\"oryzabase.Gene Ontology\":\n",
    "                    gene_ontology = analysis_ontology(att,\"GO:\")\n",
    "                    for go in gene_ontology:\n",
    "                        if go not in entity2id.keys():\n",
    "                            entity2id.setdefault(go,count_ent)\n",
    "                            count_ent+=1\n",
    "                            if count_ent == repair:\n",
    "                                print(\"8\"+iric_name+key)\n",
    "                        triplet.append(entity2id[iric_name])\n",
    "                        triplet.append(entity2id[go])\n",
    "                        triplet.append(relation2id[key])\n",
    "                        triplet2id.append(triplet)\n",
    "                        triplet = []\n",
    "                elif key == \"funricegene_genekeywords.Title\":\n",
    "                    pattern = r'[\\{\\}.\\']'\n",
    "                    title = re.sub(pattern,' ',att).split(',')\n",
    "                    #print(title)\n",
    "                    for att_of_title in title:\n",
    "                        att_of_title = re.sub(r\" +\",' ',att_of_title)\n",
    "                        att_of_title = att_of_title.strip()\n",
    "                        if att_of_title not in entity2id.keys():\n",
    "#                             print(\"{} : {}\".format(key,att_of_title))\n",
    "                            entity2id.setdefault(att_of_title,count_ent)\n",
    "                            count_ent+=1\n",
    "                            if count_ent == repair:\n",
    "                                print(\"2\",iric_name,key)\n",
    "                        triplet.append(entity2id[iric_name])\n",
    "                        triplet.append(entity2id[att_of_title])\n",
    "                        triplet.append(relation2id[key])\n",
    "                        triplet2id.append(triplet)\n",
    "                        triplet = []\n",
    "                elif key == \"rapdb.Position\":\n",
    "                    att_of_pos = att[0:5]\n",
    "                    if att_of_pos not in entity2id.keys():\n",
    "                        entity2id.setdefault(att_of_pos,count_ent)\n",
    "                        count_ent+=1\n",
    "                        if count_ent == repair:\n",
    "                            print(\"1\",iric_name+key)\n",
    "                    triplet.append(entity2id[iric_name])\n",
    "                    triplet.append(entity2id[att_of_pos])\n",
    "                    triplet.append(relation2id[key])\n",
    "                    triplet2id.append(triplet)\n",
    "                    triplet = []\n",
    "                elif key == \"oryzabase.CGSNL Gene Name\":\n",
    "                    #att_of_name = re.sub(r\"^\\d+\\s|\\s\\d+\\s|\\s\\d+$\",\"\",att)\n",
    "                    att_of_name = re.sub(r'[\\d\\-]',\"\",att)\n",
    "                    att_of_name = att_of_name.lower().strip()\n",
    "                    att_of_name = att_of_name.split(\";\")\n",
    "                    for att_sub in att_of_name:\n",
    "                        if att_sub not in entity2id.keys():\n",
    "                            if len(att_sub) > 0:\n",
    "                                if att_sub not in entity2id.keys():\n",
    "                                    entity2id.setdefault(att_sub,count_ent)\n",
    "                                    count_ent+=1\n",
    "                                    if count_ent == repair:\n",
    "                                        print(\"3\",iric_name+\" \"+key+\" \"+ att_sub)\n",
    "                                triplet.append(entity2id[iric_name])\n",
    "                                triplet.append(entity2id[att_sub])\n",
    "                                triplet.append(relation2id[key])\n",
    "                                triplet2id.append(triplet)\n",
    "                                triplet = []\n",
    "                elif key == \"oryzabase.Trait Class\":\n",
    "                    att = att.lower()\n",
    "                    trait_class = att.split(\"-\")\n",
    "                    for att_of_trait in trait_class:\n",
    "                        att_of_trait = att_of_trait.strip()\n",
    "                        if len(att_of_trait) > 0:\n",
    "                            if att_of_trait not in entity2id.keys():\n",
    "                                entity2id.setdefault(att_of_trait,count_ent)\n",
    "                                count_ent+=1\n",
    "                            triplet.append(entity2id[iric_name])\n",
    "                            triplet.append(entity2id[att_of_trait])\n",
    "                            triplet.append(relation2id[key])\n",
    "                            triplet2id.append(triplet)\n",
    "                            triplet = []\n",
    "                            if count_ent == 86:\n",
    "                                print(\"4\"+iric_name+key)    \n",
    "                elif key == \"oryzabase.Trait Ontology\":\n",
    "                    trait_ontology = analysis_ontology(att,\"TO:\")\n",
    "                    for to in trait_ontology:\n",
    "                        if to not in entity2id.keys():\n",
    "                            entity2id.setdefault(to,count_ent)\n",
    "                            count_ent+=1\n",
    "                            if count_ent == repair:\n",
    "                                print(\"5\"+iric_name+key)\n",
    "                        triplet.append(entity2id[iric_name])\n",
    "                        triplet.append(entity2id[to])\n",
    "                        triplet.append(relation2id[key])\n",
    "                        triplet2id.append(triplet)\n",
    "                        triplet = []\n",
    "                elif key == \"oryzabase.Plant Ontology\":\n",
    "                    plant_ontology = analysis_ontology(att,\"PO:\")\n",
    "                    for po in plant_ontology:\n",
    "                        if po not in entity2id.keys():\n",
    "                            entity2id.setdefault(po,count_ent)\n",
    "                            count_ent+=1\n",
    "                            if count_ent == repair:\n",
    "                                print(\"6\"+iric_name+key)\n",
    "                        triplet.append(entity2id[iric_name])\n",
    "                        triplet.append(entity2id[po])\n",
    "                        triplet.append(relation2id[key])\n",
    "                        triplet2id.append(triplet)\n",
    "                        triplet = []\n",
    "                elif key == \"funricegene_genekeywords.Keyword\" or key == \"funricegene_faminfo.Name\":\n",
    "                    att = att.lower()\n",
    "                    if len(att) > 1:\n",
    "                        pattern = r'[\\{\\}.\\']'\n",
    "                        title = re.sub(pattern,' ',att).split(\",\")\n",
    "                        #print(\"ATT:{} \\nFILTER: {}\".format(att,title))\n",
    "                        for att_of_title in title:\n",
    "                            att_of_title = re.sub(r\" +\",' ',att_of_title)\n",
    "                            att_of_title = att_of_title.strip()\n",
    "                            if att_of_title not in entity2id.keys():\n",
    "#                                 print(\"{} : {}\".format(key,att_of_title))\n",
    "                                entity2id.setdefault(att_of_title,count_ent)\n",
    "                                count_ent+=1\n",
    "                                if count_ent == repair:\n",
    "                                    print(\"7\"+iric_name+key)\n",
    "                            triplet.append(entity2id[iric_name])\n",
    "                            triplet.append(entity2id[att_of_title])\n",
    "                            triplet.append(relation2id[key])\n",
    "                            triplet2id.append(triplet)\n",
    "                            triplet = []\n",
    "with open(\"/Users/mac/Downloads/result12345/GENE/entity2id.txt\",\"w\") as f:\n",
    "    f.writelines(str(len(entity2id))+\"\\n\")\n",
    "    for key,value in entity2id.items():\n",
    "        f.writelines(key+\"\\t\"+str(value)+\"\\n\")\n",
    "    f.close()\n",
    "with open(\"/Users/mac/Downloads/result12345/GENE/relation2id.txt\",\"w\") as f:\n",
    "    f.writelines(str(len(relation2id))+\"\\n\")\n",
    "    for key,value in relation2id.items():\n",
    "        f.writelines(key+\"\\t\"+str(value)+\"\\n\")\n",
    "    f.close()\n",
    "with open(\"/Users/mac/Downloads/result12345/GENE/triplet2id.txt\",\"w\") as f:\n",
    "    f.writelines(str(len(triplet2id))+\"\\n\")\n",
    "    for triplet in triplet2id:\n",
    "        f.writelines(str(triplet[0])+\"\\t\"+str(triplet[1])+\"\\t\"+str(triplet[2])+\"\\n\")\n",
    "    f.close()"
   ]
  },
  {
   "cell_type": "code",
   "execution_count": 40,
   "metadata": {},
   "outputs": [
    {
     "data": {
      "text/plain": [
       "'Os01g0149200'"
      ]
     },
     "execution_count": 40,
     "metadata": {},
     "output_type": "execute_result"
    }
   ],
   "source": [
    "s = \"{'Os01g0149200'}\"\n",
    "re.sub(r\"[\\{\\}\\']\",'',s)"
   ]
  },
  {
   "cell_type": "code",
   "execution_count": null,
   "metadata": {},
   "outputs": [],
   "source": [
    "len(entity2id)"
   ]
  },
  {
   "cell_type": "code",
   "execution_count": null,
   "metadata": {},
   "outputs": [],
   "source": [
    "with open(\"/Users/mac/PycharmProjects/ConvKB/data/GENE/entity2id.txt\",\"w\") as f:\n",
    "    f.writelines(str(len(entity2id))+\"\\n\")\n",
    "    for key,value in entity2id.items():\n",
    "        f.writelines(key+\"\\t\"+str(value)+\"\\n\")\n",
    "    f.close()\n",
    "with open(\"/Users/mac/PycharmProjects/ConvKB/data/GENE/relation2id.txt\",\"w\") as f:\n",
    "    f.writelines(str(len(relation2id))+\"\\n\")\n",
    "    for key,value in relation2id.items():\n",
    "        f.writelines(key+\"\\t\"+str(value)+\"\\n\")\n",
    "    f.close()\n",
    "with open(\"/Users/mac/PycharmProjects/ConvKB/data/GENE/triplet2id.txt\",\"w\") as f:\n",
    "    f.writelines(str(len(triplet2id))+\"\\n\")\n",
    "    for triplet in triplet2id:\n",
    "        f.writelines(str(triplet[0])+\"\\t\"+str(triplet[1])+\"\\t\"+str(triplet[2])+\"\\n\")\n",
    "    f.close()"
   ]
  },
  {
   "cell_type": "code",
   "execution_count": null,
   "metadata": {},
   "outputs": [],
   "source": [
    "id_dict[\"Os03g0116000\"]"
   ]
  },
  {
   "cell_type": "code",
   "execution_count": null,
   "metadata": {},
   "outputs": [],
   "source": [
    "OsNippo03g019950"
   ]
  },
  {
   "cell_type": "code",
   "execution_count": null,
   "metadata": {},
   "outputs": [],
   "source": [
    "data[\"OsNippo03g019950\"]"
   ]
  },
  {
   "cell_type": "code",
   "execution_count": null,
   "metadata": {},
   "outputs": [],
   "source": [
    "triplet2id"
   ]
  },
  {
   "cell_type": "code",
   "execution_count": null,
   "metadata": {},
   "outputs": [],
   "source": [
    "relation2id"
   ]
  },
  {
   "cell_type": "code",
   "execution_count": null,
   "metadata": {},
   "outputs": [],
   "source": [
    "oryzabase.Gene symbol synonym(s)\n",
    "Gramene.species_idx\n",
    "oryzabase.Mutant Image\n",
    "funricegene_genekeywords.Symbol\n",
    "funricegene_genekeywords.MSU\n",
    "funricegene_geneinfo.MSU"
   ]
  },
  {
   "cell_type": "code",
   "execution_count": null,
   "metadata": {},
   "outputs": [],
   "source": [
    "s = \"bowman-birk inhibitor 3-2\"\n",
    "#s = re.sub(\"^\\d+\\s|\\s\\d+\\s|\\s\\d+$\", \"\", s)\n",
    "s = re.sub(r'[\\d\\-]', \"\", s)"
   ]
  },
  {
   "cell_type": "code",
   "execution_count": null,
   "metadata": {},
   "outputs": [],
   "source": [
    "s"
   ]
  },
  {
   "cell_type": "code",
   "execution_count": null,
   "metadata": {},
   "outputs": [],
   "source": [
    "s = \"   Molecular characterization of rice     sphingosine-1-phosphate lyase gene OsSPL1 and functional analysis of its role in disease resistance response\""
   ]
  },
  {
   "cell_type": "code",
   "execution_count": null,
   "metadata": {},
   "outputs": [],
   "source": [
    "s.strip()"
   ]
  },
  {
   "cell_type": "code",
   "execution_count": null,
   "metadata": {},
   "outputs": [],
   "source": [
    "import re\n",
    "[m.start() for m in re.finditer('test', 'test test test test')]"
   ]
  },
  {
   "cell_type": "code",
   "execution_count": null,
   "metadata": {},
   "outputs": [],
   "source": []
  },
  {
   "cell_type": "code",
   "execution_count": null,
   "metadata": {},
   "outputs": [],
   "source": [
    "GO:0019752 - carboxylic acid metabolic process GO:0005789 - endoplasmic reticulum membrane GO:0016831 - carboxy-lyase activity GO:0043161 - proteasomal ubiquitin-dependent protein catabolic process GO:0080129 - proteasome core complex assembly GO:0016021 - integral to membrane GO:0006665 - sphingolipid metabolic process GO:0006915 - apoptosis GO:0009407 - toxin catabolic process GO:0008117 - sphinganine-1-phosphate aldolase activity GO:0030149 - sphingolipid catabolic process GO:0009751 - response to salicylic acid stimulus GO:0051788 - response to misfolded protein GO:0050832 - defense response to fungus GO:0030170 - pyridoxal phosphate binding GO:0006888 - ER to Golgi vesicle-mediated transport GO:0006635 - fatty acid beta-oxidation "
   ]
  },
  {
   "cell_type": "code",
   "execution_count": null,
   "metadata": {},
   "outputs": [],
   "source": [
    "{'id': 'GO:0030170', 'name': 'pyridoxal phosphate binding', 'namespace': 'molecular_function', 'def': \"Interacting selectively and non-covalently with pyridoxal 5' phosphate, 3-hydroxy-5-(hydroxymethyl)-2-methyl4-pyridine carboxaldehyde 5' phosphate, the biologically active form of vitamin B6.\", 'evidence_code': 'IEA'}, {'id': 'GO:0016831', 'name': 'carboxy-lyase activity', 'namespace': 'molecular_function', 'def': 'Catalysis of the nonhydrolytic addition or removal of a carboxyl group to or from a compound.', 'evidence_code': 'IEA'}, {'id': 'GO:0019752', 'name': 'carboxylic acid metabolic process', 'namespace': 'biological_process', 'def': 'The chemical reactions and pathways involving carboxylic acids, any organic acid containing one or more carboxyl (COOH) groups or anions (COO-).', 'evidence_code': 'IEA'}, {'id': 'GO:0005789', 'name': 'endoplasmic reticulum membrane', 'namespace': 'cellular_component', 'def': 'The lipid bilayer surrounding the endoplasmic reticulum.', 'evidence_code': 'IEA'}, {'id': 'GO:0008117', 'name': 'sphinganine-1-phosphate aldolase activity', 'namespace': 'molecular_function', 'def': 'Catalysis of the reaction: sphinganine 1-phosphate = phosphoethanolamine + palmitaldehyde.', 'evidence_code': 'IEA'}, {'id': 'GO:0030149', 'name': 'sphingolipid catabolic process', 'namespace': 'biological_process', 'def': 'The chemical reactions and pathways resulting in the breakdown of sphingolipids, any of a class of lipids containing the long-chain amine diol sphingosine or a closely related base (a sphingoid).', 'evidence_code': 'IEA'}, {'id': 'GO:0016021', 'name': 'integral component of membrane', 'namespace': 'cellular_component', 'def': 'The component of a membrane consisting of the gene products and protein complexes having at least some part of their peptide sequence embedded in the hydrophobic region of the membrane.', 'evidence_code': 'IEA'}"
   ]
  },
  {
   "cell_type": "code",
   "execution_count": null,
   "metadata": {},
   "outputs": [],
   "source": []
  },
  {
   "cell_type": "code",
   "execution_count": null,
   "metadata": {},
   "outputs": [],
   "source": [
    "remove_att = {\"Gramene._id\":0,\"Gramene.name\":1,\"oryzabase.RAP ID\":2,\"funricegene_genekeywords.RAPdb\":3,\n",
    "          \"funricegene_faminfo.RAPdb\":4,\"funricegene_geneinfo.RAPdb\":5,\"rapdb.Description\":6,\n",
    "        \"rapdb.Oryzabase Gene Symbol Synonym(s)\":7,\"rapdb.RAP-DB Gene Symbol Synonym(s)\":8,\n",
    "        \"rapdb.RAP-DB Gene Name Synonym(s)\":9,\"funricegene_geneinfo.Symbol\":10,\n",
    "        \"Gramene.synonyms\":11,\"rapdb.CGSNL Gene Symbol\":12,\"rapdb.CGSNL Gene Name\":13,\n",
    "             \"rapdb.Oryzabase Gene Name Synonym(s)\":14}\n"
   ]
  },
  {
   "cell_type": "code",
   "execution_count": null,
   "metadata": {},
   "outputs": [],
   "source": [
    "a = data[\"OsNippo01g129900\"][\"Gramene\"][\"annotations\"][\"GO\"][\"entries\"]"
   ]
  },
  {
   "cell_type": "code",
   "execution_count": null,
   "metadata": {},
   "outputs": [],
   "source": [
    "a"
   ]
  },
  {
   "cell_type": "code",
   "execution_count": null,
   "metadata": {},
   "outputs": [],
   "source": [
    "isinstance(a,set)"
   ]
  },
  {
   "cell_type": "code",
   "execution_count": null,
   "metadata": {},
   "outputs": [],
   "source": [
    "rapdb.ID =[\"Gramene._id\",\"Gramene.name\",\n",
    "           \"oryzabase.RAP ID\",\"funricegene_genekeywords.RAPdb\",\n",
    "          \"funricegene_faminfo.RAPdb\",\"funricegene_geneinfo.RAPdb\"]\n",
    "Gramene.description =[\"rapdb.Description\"]\n",
    "oryzabase.Gene symbol synonym(s) =[\"rapdb.Oryzabase Gene Symbol Synonym(s)\",\n",
    "                                  \"rapdb.RAP-DB Gene Symbol Synonym(s)\",\n",
    "                                  \"rapdb.RAP-DB Gene Name Synonym(s)\",\n",
    "                                   \"funricegene_geneinfo.Symbol\",\n",
    "                                  \"Gramene.synonyms\",\"rapdb.CGSNL Gene Symbol\"]\n",
    "oryzabase.CGSNL Gene Name = [\"rapdb.CGSNL Gene Name\"]\n",
    "oryzabase.Gene name synonym(s) = [\"rapdb.Oryzabase Gene Name Synonym(s)\"]"
   ]
  }
 ],
 "metadata": {
  "kernelspec": {
   "display_name": "Python 3",
   "language": "python",
   "name": "python3"
  },
  "language_info": {
   "codemirror_mode": {
    "name": "ipython",
    "version": 3
   },
   "file_extension": ".py",
   "mimetype": "text/x-python",
   "name": "python",
   "nbconvert_exporter": "python",
   "pygments_lexer": "ipython3",
   "version": "3.6.7"
  }
 },
 "nbformat": 4,
 "nbformat_minor": 2
}
